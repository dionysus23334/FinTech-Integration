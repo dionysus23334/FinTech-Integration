{
 "cells": [
  {
   "cell_type": "code",
   "execution_count": 1,
   "id": "2499f626",
   "metadata": {},
   "outputs": [],
   "source": [
    "import requests\n",
    "import pandas as pd\n",
    "import time\n",
    "\n",
    "# 字段映射（API字段到中文）\n",
    "mapping_field = {\n",
    "    'f51': '日期',\n",
    "    'f52': '开盘价',\n",
    "    'f53': '收盘价',\n",
    "    'f54': '最高价',\n",
    "    'f55': '最低价',\n",
    "    'f56': '成交量',\n",
    "    'f57': '成交额',\n",
    "    'f58': '振幅',\n",
    "    'f59': '涨跌幅',\n",
    "    'f60': '涨跌额'\n",
    "}\n",
    "\n",
    "class EastmoneyKlineFetcher:\n",
    "    def __init__(self, stock_list, klt=\"101\", fqt=\"1\", lmt=120):\n",
    "        self.stock_list = stock_list  # 格式如：['0.002040', '1.600519']\n",
    "        self.klt = klt  # K线类型\n",
    "        self.fqt = fqt  # 复权方式\n",
    "        self.lmt = lmt  # 数据条数限制\n",
    "\n",
    "    def fetch_single(self, secid):\n",
    "        url = (\n",
    "            f\"https://push2his.eastmoney.com/api/qt/stock/kline/get?\"\n",
    "            f\"secid={secid}&ut=fa5fd1943c7b386f172d6893dbfba10b\"\n",
    "            f\"&fields1=f1,f2,f3,f4,f5,f6\"\n",
    "            f\"&fields2={','.join(mapping_field.keys())}\"\n",
    "            f\"&klt={self.klt}&fqt={self.fqt}&end=20500101&lmt={self.lmt}\"\n",
    "        )\n",
    "        try:\n",
    "            response = requests.get(url, timeout=10)\n",
    "            json_data = response.json()\n",
    "            if not json_data.get(\"data\"):\n",
    "                print(f\"Warning: No data for {secid}\")\n",
    "                return None\n",
    "            klines = json_data[\"data\"][\"klines\"]\n",
    "            df = pd.DataFrame(\n",
    "                [line.split(',') for line in klines],\n",
    "                columns=list(mapping_field.values())\n",
    "            )\n",
    "            df[\"股票代码\"] = secid\n",
    "            return df\n",
    "        except Exception as e:\n",
    "            print(f\"Error fetching {secid}: {e}\")\n",
    "            return None\n",
    "\n",
    "    def fetch_all(self):\n",
    "        all_data = []\n",
    "        for secid in self.stock_list:\n",
    "            print(f\"Fetching: {secid}\")\n",
    "            df = self.fetch_single(secid)\n",
    "            if df is not None:\n",
    "                all_data.append(df)\n",
    "            time.sleep(0.5)  # 防止触发限速\n",
    "        return pd.concat(all_data, ignore_index=True) if all_data else None"
   ]
  },
  {
   "cell_type": "code",
   "execution_count": 2,
   "id": "78350b5a",
   "metadata": {},
   "outputs": [
    {
     "name": "stdout",
     "output_type": "stream",
     "text": [
      "Fetching: 0.002040\n",
      "Fetching: 1.600519\n",
      "           日期   开盘价   收盘价   最高价   最低价     成交量           成交额    振幅    涨跌幅  \\\n",
      "0  2024-12-03  7.28  7.47  7.57  7.17  279229  205548753.06  5.49   2.47   \n",
      "1  2024-12-04  7.34  7.15  7.34  7.07  203252  146508447.53  3.61  -4.28   \n",
      "2  2024-12-05  7.13  7.10  7.13  7.03  127005   89928929.17  1.40  -0.70   \n",
      "3  2024-12-06  7.08  7.19  7.21  7.04  139553   99492299.17  2.39   1.27   \n",
      "4  2024-12-09  7.14  7.18  7.28  7.05  131309   94041812.37  3.20  -0.14   \n",
      "\n",
      "     涨跌额      股票代码  \n",
      "0   0.18  0.002040  \n",
      "1  -0.32  0.002040  \n",
      "2  -0.05  0.002040  \n",
      "3   0.09  0.002040  \n",
      "4  -0.01  0.002040  \n"
     ]
    }
   ],
   "source": [
    "fetcher = EastmoneyKlineFetcher(['0.002040', '1.600519'], klt='101', fqt='1', lmt=90)\n",
    "df = fetcher.fetch_all()\n",
    "print(df.head())"
   ]
  }
 ],
 "metadata": {
  "kernelspec": {
   "display_name": "Python 3",
   "language": "python",
   "name": "python3"
  },
  "language_info": {
   "codemirror_mode": {
    "name": "ipython",
    "version": 3
   },
   "file_extension": ".py",
   "mimetype": "text/x-python",
   "name": "python",
   "nbconvert_exporter": "python",
   "pygments_lexer": "ipython3",
   "version": "3.10.9"
  }
 },
 "nbformat": 4,
 "nbformat_minor": 5
}
